{
 "cells": [
  {
   "cell_type": "code",
   "execution_count": 3,
   "metadata": {},
   "outputs": [],
   "source": [
    "# how you create new a new jupyter notebook\n",
    "# you go to the interactive box and search jupyter\n",
    "# and you would see the option there."
   ]
  },
  {
   "cell_type": "code",
   "execution_count": 4,
   "metadata": {},
   "outputs": [],
   "source": [
    "# importing the relevant libraries.\n",
    "\n",
    "import numpy as np\n",
    "import pandas as pd\n",
    "import seaborn as sms\n",
    "from matplotlib import pyplot as pyplot\n",
    "\n"
   ]
  },
  {
   "cell_type": "code",
   "execution_count": 5,
   "metadata": {},
   "outputs": [
    {
     "name": "stdout",
     "output_type": "stream",
     "text": [
      "Counter({'shad': 12, 'connor': 8, 'april': 7, 'mic': 1})\n"
     ]
    }
   ],
   "source": [
    "from collections import Counter\n",
    "\n",
    "Shad_ball_year_winners = [ \"shad\", \"april\", \"connor\",  \"april\", \"mic\",\"shad\",\"shad\", \"connor\",\"connor\",\"connor\",\"connor\",\"connor\",\"connor\",\"connor\", \"april\",\"shad\",\"shad\",\"shad\",\"shad\",\"shad\",\"shad\",\"shad\",\"shad\",  \"april\", \"april\", \"april\", \"april\",\"shad\",]\n",
    "shad_counter = Counter(Shad_ball_year_winners)\n",
    "\n",
    "print(shad_counter)"
   ]
  }
 ],
 "metadata": {
  "kernelspec": {
   "display_name": "Python 3",
   "language": "python",
   "name": "python3"
  },
  "language_info": {
   "codemirror_mode": {
    "name": "ipython",
    "version": 3
   },
   "file_extension": ".py",
   "mimetype": "text/x-python",
   "name": "python",
   "nbconvert_exporter": "python",
   "pygments_lexer": "ipython3",
   "version": "3.11.4"
  }
 },
 "nbformat": 4,
 "nbformat_minor": 2
}
